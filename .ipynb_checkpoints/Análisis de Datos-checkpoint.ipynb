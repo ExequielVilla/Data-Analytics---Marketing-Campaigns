{
 "cells": [
  {
   "cell_type": "markdown",
   "id": "a1854184-fd92-4af4-8b9b-bb6377b79d78",
   "metadata": {},
   "source": [
    "# Descripción del Dataset"
   ]
  },
  {
   "cell_type": "markdown",
   "id": "5da1c9e3-ba4c-4a23-b8cc-c7be4fcce365",
   "metadata": {},
   "source": [
    "El dataset con el que se trabaja es sobre clientes de una determinada empresa que comercializa diferentes tipos de productos, la cual realizó hasta el momento seis campañas de ventas."
   ]
  },
  {
   "cell_type": "markdown",
   "id": "d7ecdef8-36a0-4ea2-a11a-2fac2c25e707",
   "metadata": {},
   "source": [
    "Este dataset es público y se encuentra disponible en: https://www.kaggle.com/datasets/rodsaldanha/arketing-campaign/data"
   ]
  },
  {
   "cell_type": "markdown",
   "id": "90384367-9143-4052-83c3-88490905449e",
   "metadata": {},
   "source": [
    "Cuenta con 29 variables originales las cuales son:"
   ]
  },
  {
   "cell_type": "markdown",
   "id": "27115a76-2089-4e94-8e3a-26faeaac7dd7",
   "metadata": {},
   "source": [
    "#### Datos del cliente:\n",
    "- **ID**: identificador único del cliente.\n",
    "- **Year Birth**: año de nacimiento del cliente.\n",
    "- **Education**: nivel de educación del cliente.\n",
    "- **Marital Status**: estado civil del cliente.\n",
    "- **Income**: ingresos familiares anuales del cliente.\n",
    "- **Kidhome**: número de niños en el hogar del cliente.\n",
    "- **Teenhome**: número de adolescentes en el hogar del cliente.\n",
    "- **Dt Customer**: fecha de registro del cliente en la empresa.\n",
    "\n",
    "#### Montos gastados en los ultimos 2 años:\n",
    "- **MntMeatProducts**: monto gastado en carne en los últimos 2 años. \n",
    "- **MntFruits**: monto gastado en frutas en los últimos 2 años. \n",
    "- **MntFishProducts**: monto gastado en pescado en los últimos 2 años.\n",
    "- **MntSweetProducts**: monto gastado en dulces en los últimos 2 años.\n",
    "- **MntWines**: monto gastado en vino en los últimos 2 años.\n",
    "- **MntGoldProds**: monto gastado en oro en los últimos 2 años.\n",
    "\n",
    "#### Aceptación de ofertas en campaña:\n",
    "- **AcceptedCmp1**: 1 si el cliente aceptó la oferta en la primera campaña, 0 en caso contrario. \n",
    "- **AcceptedCmp2**: 1 si el cliente aceptó la oferta en la segunda campaña, 0 en caso contrario. \n",
    "- **AcceptedCmp3**: 1 si el cliente aceptó la oferta en la tercera campaña, 0 en caso contrario. \n",
    "- **AcceptedCmp4**: 1 si el cliente aceptó la oferta en la cuarta campaña, 0 en caso contrario. \n",
    "- **AcceptedCmp5**: 1 si el cliente aceptó la oferta en la quinta campaña, 0 en caso contrario. \n",
    "- **Response**: 1 si el cliente aceptó la oferta en la última(sexta) campaña, 0 en caso contrario. \n",
    "\n",
    "#### Nro de compras por medio de ventas:\n",
    "- **NumWebPurchases**: número de compras realizadas a través del sitio web de la empresa. \n",
    "- **NumCatalogPurchases**: número de compras realizadas mediante un catálogo. \n",
    "- **NumStorePurchases**: número de compras realizadas directamente en las tiendas.\n",
    "\n",
    "#### Otras variables:\n",
    "- **NumWebVisitsMonth**: número de visitas al sitio web de la empresa en el último mes. \n",
    "- **Recency**: número de días desde la última compra del cliente.\n",
    "- **Complain**: 1 si el cliente se quejó en los últimos 2 años, 0 en caso contrario.\n",
    "- **NumDealsPurchases**: Número de compras realizadas con descuento.\n",
    "- **Z CostContact**: sin descripción. \n",
    "- **Z Revenue**: sin descripción."
   ]
  },
  {
   "cell_type": "markdown",
   "id": "037c80cf-3244-4e5e-845c-230be30010c5",
   "metadata": {},
   "source": [
    "## Librerías"
   ]
  },
  {
   "cell_type": "code",
   "execution_count": null,
   "id": "517f88b8-4deb-4b84-94d8-ccae9dab82a2",
   "metadata": {},
   "outputs": [],
   "source": [
    "install.packages(c(\"agricolae\", \"tidyverse\", \"scatterplot3d\", \"MASS\", \"reshape2\", \"FactoMineR\", \"factoextra\", \"cluster\", \"ggpubr\"))"
   ]
  },
  {
   "cell_type": "code",
   "execution_count": null,
   "id": "ac14cf8f",
   "metadata": {
    "tags": []
   },
   "outputs": [],
   "source": [
    "lapply(c(\"tidyverse\", \"agricolae\", \"scatterplot3d\", \"MASS\", \"reshape2\", \"FactoMineR\", \"factoextra\", \"cluster\", \"ggpubr\"), \n",
    "       library, character.only = TRUE)"
   ]
  },
  {
   "cell_type": "markdown",
   "id": "21fecbeb-0267-4866-ad68-ab63631b8d66",
   "metadata": {},
   "source": [
    "## Importación y primera visualización del dataset"
   ]
  },
  {
   "cell_type": "markdown",
   "id": "5a9f18fb-7e07-4678-9a13-eba782ba7705",
   "metadata": {},
   "source": [
    "Se carga el dataset, se determina su dimensión, y se observan las primeras 10 filas junto con un resumen del mismo."
   ]
  },
  {
   "cell_type": "code",
   "execution_count": 1096,
   "id": "a9d38805",
   "metadata": {
    "tags": []
   },
   "outputs": [
    {
     "data": {
      "text/html": [
       "<style>\n",
       ".list-inline {list-style: none; margin:0; padding: 0}\n",
       ".list-inline>li {display: inline-block}\n",
       ".list-inline>li:not(:last-child)::after {content: \"\\00b7\"; padding: 0 .5ex}\n",
       "</style>\n",
       "<ol class=list-inline><li>2240</li><li>29</li></ol>\n"
      ],
      "text/latex": [
       "\\begin{enumerate*}\n",
       "\\item 2240\n",
       "\\item 29\n",
       "\\end{enumerate*}\n"
      ],
      "text/markdown": [
       "1. 2240\n",
       "2. 29\n",
       "\n",
       "\n"
      ],
      "text/plain": [
       "[1] 2240   29"
      ]
     },
     "metadata": {},
     "output_type": "display_data"
    },
    {
     "data": {
      "text/html": [
       "<table class=\"dataframe\">\n",
       "<caption>A data.frame: 10 × 29</caption>\n",
       "<thead>\n",
       "\t<tr><th></th><th scope=col>ID</th><th scope=col>Year_Birth</th><th scope=col>Education</th><th scope=col>Marital_Status</th><th scope=col>Income</th><th scope=col>Kidhome</th><th scope=col>Teenhome</th><th scope=col>Dt_Customer</th><th scope=col>Recency</th><th scope=col>MntWines</th><th scope=col>⋯</th><th scope=col>NumWebVisitsMonth</th><th scope=col>AcceptedCmp3</th><th scope=col>AcceptedCmp4</th><th scope=col>AcceptedCmp5</th><th scope=col>AcceptedCmp1</th><th scope=col>AcceptedCmp2</th><th scope=col>Complain</th><th scope=col>Z_CostContact</th><th scope=col>Z_Revenue</th><th scope=col>Response</th></tr>\n",
       "\t<tr><th></th><th scope=col>&lt;int&gt;</th><th scope=col>&lt;int&gt;</th><th scope=col>&lt;chr&gt;</th><th scope=col>&lt;chr&gt;</th><th scope=col>&lt;int&gt;</th><th scope=col>&lt;int&gt;</th><th scope=col>&lt;int&gt;</th><th scope=col>&lt;chr&gt;</th><th scope=col>&lt;int&gt;</th><th scope=col>&lt;int&gt;</th><th scope=col>⋯</th><th scope=col>&lt;int&gt;</th><th scope=col>&lt;int&gt;</th><th scope=col>&lt;int&gt;</th><th scope=col>&lt;int&gt;</th><th scope=col>&lt;int&gt;</th><th scope=col>&lt;int&gt;</th><th scope=col>&lt;int&gt;</th><th scope=col>&lt;int&gt;</th><th scope=col>&lt;int&gt;</th><th scope=col>&lt;int&gt;</th></tr>\n",
       "</thead>\n",
       "<tbody>\n",
       "\t<tr><th scope=row>1</th><td>5524</td><td>1957</td><td>Graduation</td><td>Single  </td><td>58138</td><td>0</td><td>0</td><td>04-09-2012</td><td>58</td><td>635</td><td>⋯</td><td> 7</td><td>0</td><td>0</td><td>0</td><td>0</td><td>0</td><td>0</td><td>3</td><td>11</td><td>1</td></tr>\n",
       "\t<tr><th scope=row>2</th><td>2174</td><td>1954</td><td>Graduation</td><td>Single  </td><td>46344</td><td>1</td><td>1</td><td>08-03-2014</td><td>38</td><td> 11</td><td>⋯</td><td> 5</td><td>0</td><td>0</td><td>0</td><td>0</td><td>0</td><td>0</td><td>3</td><td>11</td><td>0</td></tr>\n",
       "\t<tr><th scope=row>3</th><td>4141</td><td>1965</td><td>Graduation</td><td>Together</td><td>71613</td><td>0</td><td>0</td><td>21-08-2013</td><td>26</td><td>426</td><td>⋯</td><td> 4</td><td>0</td><td>0</td><td>0</td><td>0</td><td>0</td><td>0</td><td>3</td><td>11</td><td>0</td></tr>\n",
       "\t<tr><th scope=row>4</th><td>6182</td><td>1984</td><td>Graduation</td><td>Together</td><td>26646</td><td>1</td><td>0</td><td>10-02-2014</td><td>26</td><td> 11</td><td>⋯</td><td> 6</td><td>0</td><td>0</td><td>0</td><td>0</td><td>0</td><td>0</td><td>3</td><td>11</td><td>0</td></tr>\n",
       "\t<tr><th scope=row>5</th><td>5324</td><td>1981</td><td>PhD       </td><td>Married </td><td>58293</td><td>1</td><td>0</td><td>19-01-2014</td><td>94</td><td>173</td><td>⋯</td><td> 5</td><td>0</td><td>0</td><td>0</td><td>0</td><td>0</td><td>0</td><td>3</td><td>11</td><td>0</td></tr>\n",
       "\t<tr><th scope=row>6</th><td>7446</td><td>1967</td><td>Master    </td><td>Together</td><td>62513</td><td>0</td><td>1</td><td>09-09-2013</td><td>16</td><td>520</td><td>⋯</td><td> 6</td><td>0</td><td>0</td><td>0</td><td>0</td><td>0</td><td>0</td><td>3</td><td>11</td><td>0</td></tr>\n",
       "\t<tr><th scope=row>7</th><td> 965</td><td>1971</td><td>Graduation</td><td>Divorced</td><td>55635</td><td>0</td><td>1</td><td>13-11-2012</td><td>34</td><td>235</td><td>⋯</td><td> 6</td><td>0</td><td>0</td><td>0</td><td>0</td><td>0</td><td>0</td><td>3</td><td>11</td><td>0</td></tr>\n",
       "\t<tr><th scope=row>8</th><td>6177</td><td>1985</td><td>PhD       </td><td>Married </td><td>33454</td><td>1</td><td>0</td><td>08-05-2013</td><td>32</td><td> 76</td><td>⋯</td><td> 8</td><td>0</td><td>0</td><td>0</td><td>0</td><td>0</td><td>0</td><td>3</td><td>11</td><td>0</td></tr>\n",
       "\t<tr><th scope=row>9</th><td>4855</td><td>1974</td><td>PhD       </td><td>Together</td><td>30351</td><td>1</td><td>0</td><td>06-06-2013</td><td>19</td><td> 14</td><td>⋯</td><td> 9</td><td>0</td><td>0</td><td>0</td><td>0</td><td>0</td><td>0</td><td>3</td><td>11</td><td>1</td></tr>\n",
       "\t<tr><th scope=row>10</th><td>5899</td><td>1950</td><td>PhD       </td><td>Together</td><td> 5648</td><td>1</td><td>1</td><td>13-03-2014</td><td>68</td><td> 28</td><td>⋯</td><td>20</td><td>1</td><td>0</td><td>0</td><td>0</td><td>0</td><td>0</td><td>3</td><td>11</td><td>0</td></tr>\n",
       "</tbody>\n",
       "</table>\n"
      ],
      "text/latex": [
       "A data.frame: 10 × 29\n",
       "\\begin{tabular}{r|lllllllllllllllllllll}\n",
       "  & ID & Year\\_Birth & Education & Marital\\_Status & Income & Kidhome & Teenhome & Dt\\_Customer & Recency & MntWines & ⋯ & NumWebVisitsMonth & AcceptedCmp3 & AcceptedCmp4 & AcceptedCmp5 & AcceptedCmp1 & AcceptedCmp2 & Complain & Z\\_CostContact & Z\\_Revenue & Response\\\\\n",
       "  & <int> & <int> & <chr> & <chr> & <int> & <int> & <int> & <chr> & <int> & <int> & ⋯ & <int> & <int> & <int> & <int> & <int> & <int> & <int> & <int> & <int> & <int>\\\\\n",
       "\\hline\n",
       "\t1 & 5524 & 1957 & Graduation & Single   & 58138 & 0 & 0 & 04-09-2012 & 58 & 635 & ⋯ &  7 & 0 & 0 & 0 & 0 & 0 & 0 & 3 & 11 & 1\\\\\n",
       "\t2 & 2174 & 1954 & Graduation & Single   & 46344 & 1 & 1 & 08-03-2014 & 38 &  11 & ⋯ &  5 & 0 & 0 & 0 & 0 & 0 & 0 & 3 & 11 & 0\\\\\n",
       "\t3 & 4141 & 1965 & Graduation & Together & 71613 & 0 & 0 & 21-08-2013 & 26 & 426 & ⋯ &  4 & 0 & 0 & 0 & 0 & 0 & 0 & 3 & 11 & 0\\\\\n",
       "\t4 & 6182 & 1984 & Graduation & Together & 26646 & 1 & 0 & 10-02-2014 & 26 &  11 & ⋯ &  6 & 0 & 0 & 0 & 0 & 0 & 0 & 3 & 11 & 0\\\\\n",
       "\t5 & 5324 & 1981 & PhD        & Married  & 58293 & 1 & 0 & 19-01-2014 & 94 & 173 & ⋯ &  5 & 0 & 0 & 0 & 0 & 0 & 0 & 3 & 11 & 0\\\\\n",
       "\t6 & 7446 & 1967 & Master     & Together & 62513 & 0 & 1 & 09-09-2013 & 16 & 520 & ⋯ &  6 & 0 & 0 & 0 & 0 & 0 & 0 & 3 & 11 & 0\\\\\n",
       "\t7 &  965 & 1971 & Graduation & Divorced & 55635 & 0 & 1 & 13-11-2012 & 34 & 235 & ⋯ &  6 & 0 & 0 & 0 & 0 & 0 & 0 & 3 & 11 & 0\\\\\n",
       "\t8 & 6177 & 1985 & PhD        & Married  & 33454 & 1 & 0 & 08-05-2013 & 32 &  76 & ⋯ &  8 & 0 & 0 & 0 & 0 & 0 & 0 & 3 & 11 & 0\\\\\n",
       "\t9 & 4855 & 1974 & PhD        & Together & 30351 & 1 & 0 & 06-06-2013 & 19 &  14 & ⋯ &  9 & 0 & 0 & 0 & 0 & 0 & 0 & 3 & 11 & 1\\\\\n",
       "\t10 & 5899 & 1950 & PhD        & Together &  5648 & 1 & 1 & 13-03-2014 & 68 &  28 & ⋯ & 20 & 1 & 0 & 0 & 0 & 0 & 0 & 3 & 11 & 0\\\\\n",
       "\\end{tabular}\n"
      ],
      "text/markdown": [
       "\n",
       "A data.frame: 10 × 29\n",
       "\n",
       "| <!--/--> | ID &lt;int&gt; | Year_Birth &lt;int&gt; | Education &lt;chr&gt; | Marital_Status &lt;chr&gt; | Income &lt;int&gt; | Kidhome &lt;int&gt; | Teenhome &lt;int&gt; | Dt_Customer &lt;chr&gt; | Recency &lt;int&gt; | MntWines &lt;int&gt; | ⋯ ⋯ | NumWebVisitsMonth &lt;int&gt; | AcceptedCmp3 &lt;int&gt; | AcceptedCmp4 &lt;int&gt; | AcceptedCmp5 &lt;int&gt; | AcceptedCmp1 &lt;int&gt; | AcceptedCmp2 &lt;int&gt; | Complain &lt;int&gt; | Z_CostContact &lt;int&gt; | Z_Revenue &lt;int&gt; | Response &lt;int&gt; |\n",
       "|---|---|---|---|---|---|---|---|---|---|---|---|---|---|---|---|---|---|---|---|---|---|\n",
       "| 1 | 5524 | 1957 | Graduation | Single   | 58138 | 0 | 0 | 04-09-2012 | 58 | 635 | ⋯ |  7 | 0 | 0 | 0 | 0 | 0 | 0 | 3 | 11 | 1 |\n",
       "| 2 | 2174 | 1954 | Graduation | Single   | 46344 | 1 | 1 | 08-03-2014 | 38 |  11 | ⋯ |  5 | 0 | 0 | 0 | 0 | 0 | 0 | 3 | 11 | 0 |\n",
       "| 3 | 4141 | 1965 | Graduation | Together | 71613 | 0 | 0 | 21-08-2013 | 26 | 426 | ⋯ |  4 | 0 | 0 | 0 | 0 | 0 | 0 | 3 | 11 | 0 |\n",
       "| 4 | 6182 | 1984 | Graduation | Together | 26646 | 1 | 0 | 10-02-2014 | 26 |  11 | ⋯ |  6 | 0 | 0 | 0 | 0 | 0 | 0 | 3 | 11 | 0 |\n",
       "| 5 | 5324 | 1981 | PhD        | Married  | 58293 | 1 | 0 | 19-01-2014 | 94 | 173 | ⋯ |  5 | 0 | 0 | 0 | 0 | 0 | 0 | 3 | 11 | 0 |\n",
       "| 6 | 7446 | 1967 | Master     | Together | 62513 | 0 | 1 | 09-09-2013 | 16 | 520 | ⋯ |  6 | 0 | 0 | 0 | 0 | 0 | 0 | 3 | 11 | 0 |\n",
       "| 7 |  965 | 1971 | Graduation | Divorced | 55635 | 0 | 1 | 13-11-2012 | 34 | 235 | ⋯ |  6 | 0 | 0 | 0 | 0 | 0 | 0 | 3 | 11 | 0 |\n",
       "| 8 | 6177 | 1985 | PhD        | Married  | 33454 | 1 | 0 | 08-05-2013 | 32 |  76 | ⋯ |  8 | 0 | 0 | 0 | 0 | 0 | 0 | 3 | 11 | 0 |\n",
       "| 9 | 4855 | 1974 | PhD        | Together | 30351 | 1 | 0 | 06-06-2013 | 19 |  14 | ⋯ |  9 | 0 | 0 | 0 | 0 | 0 | 0 | 3 | 11 | 1 |\n",
       "| 10 | 5899 | 1950 | PhD        | Together |  5648 | 1 | 1 | 13-03-2014 | 68 |  28 | ⋯ | 20 | 1 | 0 | 0 | 0 | 0 | 0 | 3 | 11 | 0 |\n",
       "\n"
      ],
      "text/plain": [
       "   ID   Year_Birth Education  Marital_Status Income Kidhome Teenhome\n",
       "1  5524 1957       Graduation Single         58138  0       0       \n",
       "2  2174 1954       Graduation Single         46344  1       1       \n",
       "3  4141 1965       Graduation Together       71613  0       0       \n",
       "4  6182 1984       Graduation Together       26646  1       0       \n",
       "5  5324 1981       PhD        Married        58293  1       0       \n",
       "6  7446 1967       Master     Together       62513  0       1       \n",
       "7   965 1971       Graduation Divorced       55635  0       1       \n",
       "8  6177 1985       PhD        Married        33454  1       0       \n",
       "9  4855 1974       PhD        Together       30351  1       0       \n",
       "10 5899 1950       PhD        Together        5648  1       1       \n",
       "   Dt_Customer Recency MntWines ⋯ NumWebVisitsMonth AcceptedCmp3 AcceptedCmp4\n",
       "1  04-09-2012  58      635      ⋯  7                0            0           \n",
       "2  08-03-2014  38       11      ⋯  5                0            0           \n",
       "3  21-08-2013  26      426      ⋯  4                0            0           \n",
       "4  10-02-2014  26       11      ⋯  6                0            0           \n",
       "5  19-01-2014  94      173      ⋯  5                0            0           \n",
       "6  09-09-2013  16      520      ⋯  6                0            0           \n",
       "7  13-11-2012  34      235      ⋯  6                0            0           \n",
       "8  08-05-2013  32       76      ⋯  8                0            0           \n",
       "9  06-06-2013  19       14      ⋯  9                0            0           \n",
       "10 13-03-2014  68       28      ⋯ 20                1            0           \n",
       "   AcceptedCmp5 AcceptedCmp1 AcceptedCmp2 Complain Z_CostContact Z_Revenue\n",
       "1  0            0            0            0        3             11       \n",
       "2  0            0            0            0        3             11       \n",
       "3  0            0            0            0        3             11       \n",
       "4  0            0            0            0        3             11       \n",
       "5  0            0            0            0        3             11       \n",
       "6  0            0            0            0        3             11       \n",
       "7  0            0            0            0        3             11       \n",
       "8  0            0            0            0        3             11       \n",
       "9  0            0            0            0        3             11       \n",
       "10 0            0            0            0        3             11       \n",
       "   Response\n",
       "1  1       \n",
       "2  0       \n",
       "3  0       \n",
       "4  0       \n",
       "5  0       \n",
       "6  0       \n",
       "7  0       \n",
       "8  0       \n",
       "9  1       \n",
       "10 0       "
      ]
     },
     "metadata": {},
     "output_type": "display_data"
    },
    {
     "name": "stdout",
     "output_type": "stream",
     "text": [
      "'data.frame':\t10 obs. of  29 variables:\n",
      " $ ID                 : int  5524 2174 4141 6182 5324 7446 965 6177 4855 5899\n",
      " $ Year_Birth         : int  1957 1954 1965 1984 1981 1967 1971 1985 1974 1950\n",
      " $ Education          : chr  \"Graduation\" \"Graduation\" \"Graduation\" \"Graduation\" ...\n",
      " $ Marital_Status     : chr  \"Single\" \"Single\" \"Together\" \"Together\" ...\n",
      " $ Income             : int  58138 46344 71613 26646 58293 62513 55635 33454 30351 5648\n",
      " $ Kidhome            : int  0 1 0 1 1 0 0 1 1 1\n",
      " $ Teenhome           : int  0 1 0 0 0 1 1 0 0 1\n",
      " $ Dt_Customer        : chr  \"04-09-2012\" \"08-03-2014\" \"21-08-2013\" \"10-02-2014\" ...\n",
      " $ Recency            : int  58 38 26 26 94 16 34 32 19 68\n",
      " $ MntWines           : int  635 11 426 11 173 520 235 76 14 28\n",
      " $ MntFruits          : int  88 1 49 4 43 42 65 10 0 0\n",
      " $ MntMeatProducts    : int  546 6 127 20 118 98 164 56 24 6\n",
      " $ MntFishProducts    : int  172 2 111 10 46 0 50 3 3 1\n",
      " $ MntSweetProducts   : int  88 1 21 3 27 42 49 1 3 1\n",
      " $ MntGoldProds       : int  88 6 42 5 15 14 27 23 2 13\n",
      " $ NumDealsPurchases  : int  3 2 1 2 5 2 4 2 1 1\n",
      " $ NumWebPurchases    : int  8 1 8 2 5 6 7 4 3 1\n",
      " $ NumCatalogPurchases: int  10 1 2 0 3 4 3 0 0 0\n",
      " $ NumStorePurchases  : int  4 2 10 4 6 10 7 4 2 0\n",
      " $ NumWebVisitsMonth  : int  7 5 4 6 5 6 6 8 9 20\n",
      " $ AcceptedCmp3       : int  0 0 0 0 0 0 0 0 0 1\n",
      " $ AcceptedCmp4       : int  0 0 0 0 0 0 0 0 0 0\n",
      " $ AcceptedCmp5       : int  0 0 0 0 0 0 0 0 0 0\n",
      " $ AcceptedCmp1       : int  0 0 0 0 0 0 0 0 0 0\n",
      " $ AcceptedCmp2       : int  0 0 0 0 0 0 0 0 0 0\n",
      " $ Complain           : int  0 0 0 0 0 0 0 0 0 0\n",
      " $ Z_CostContact      : int  3 3 3 3 3 3 3 3 3 3\n",
      " $ Z_Revenue          : int  11 11 11 11 11 11 11 11 11 11\n",
      " $ Response           : int  1 0 0 0 0 0 0 0 1 0\n"
     ]
    },
    {
     "data": {
      "text/plain": [
       "       ID          Year_Birth    Education         Marital_Status    \n",
       " Min.   :    0   Min.   :1893   Length:2240        Length:2240       \n",
       " 1st Qu.: 2828   1st Qu.:1959   Class :character   Class :character  \n",
       " Median : 5458   Median :1970   Mode  :character   Mode  :character  \n",
       " Mean   : 5592   Mean   :1969                                        \n",
       " 3rd Qu.: 8428   3rd Qu.:1977                                        \n",
       " Max.   :11191   Max.   :1996                                        \n",
       "                                                                     \n",
       "     Income          Kidhome          Teenhome      Dt_Customer       \n",
       " Min.   :  1730   Min.   :0.0000   Min.   :0.0000   Length:2240       \n",
       " 1st Qu.: 35303   1st Qu.:0.0000   1st Qu.:0.0000   Class :character  \n",
       " Median : 51382   Median :0.0000   Median :0.0000   Mode  :character  \n",
       " Mean   : 52247   Mean   :0.4442   Mean   :0.5062                     \n",
       " 3rd Qu.: 68522   3rd Qu.:1.0000   3rd Qu.:1.0000                     \n",
       " Max.   :666666   Max.   :2.0000   Max.   :2.0000                     \n",
       " NA's   :24                                                           \n",
       "    Recency         MntWines         MntFruits     MntMeatProducts \n",
       " Min.   : 0.00   Min.   :   0.00   Min.   :  0.0   Min.   :   0.0  \n",
       " 1st Qu.:24.00   1st Qu.:  23.75   1st Qu.:  1.0   1st Qu.:  16.0  \n",
       " Median :49.00   Median : 173.50   Median :  8.0   Median :  67.0  \n",
       " Mean   :49.11   Mean   : 303.94   Mean   : 26.3   Mean   : 166.9  \n",
       " 3rd Qu.:74.00   3rd Qu.: 504.25   3rd Qu.: 33.0   3rd Qu.: 232.0  \n",
       " Max.   :99.00   Max.   :1493.00   Max.   :199.0   Max.   :1725.0  \n",
       "                                                                   \n",
       " MntFishProducts  MntSweetProducts  MntGoldProds    NumDealsPurchases\n",
       " Min.   :  0.00   Min.   :  0.00   Min.   :  0.00   Min.   : 0.000   \n",
       " 1st Qu.:  3.00   1st Qu.:  1.00   1st Qu.:  9.00   1st Qu.: 1.000   \n",
       " Median : 12.00   Median :  8.00   Median : 24.00   Median : 2.000   \n",
       " Mean   : 37.53   Mean   : 27.06   Mean   : 44.02   Mean   : 2.325   \n",
       " 3rd Qu.: 50.00   3rd Qu.: 33.00   3rd Qu.: 56.00   3rd Qu.: 3.000   \n",
       " Max.   :259.00   Max.   :263.00   Max.   :362.00   Max.   :15.000   \n",
       "                                                                     \n",
       " NumWebPurchases  NumCatalogPurchases NumStorePurchases NumWebVisitsMonth\n",
       " Min.   : 0.000   Min.   : 0.000      Min.   : 0.00     Min.   : 0.000   \n",
       " 1st Qu.: 2.000   1st Qu.: 0.000      1st Qu.: 3.00     1st Qu.: 3.000   \n",
       " Median : 4.000   Median : 2.000      Median : 5.00     Median : 6.000   \n",
       " Mean   : 4.085   Mean   : 2.662      Mean   : 5.79     Mean   : 5.317   \n",
       " 3rd Qu.: 6.000   3rd Qu.: 4.000      3rd Qu.: 8.00     3rd Qu.: 7.000   \n",
       " Max.   :27.000   Max.   :28.000      Max.   :13.00     Max.   :20.000   \n",
       "                                                                         \n",
       "  AcceptedCmp3      AcceptedCmp4      AcceptedCmp5      AcceptedCmp1    \n",
       " Min.   :0.00000   Min.   :0.00000   Min.   :0.00000   Min.   :0.00000  \n",
       " 1st Qu.:0.00000   1st Qu.:0.00000   1st Qu.:0.00000   1st Qu.:0.00000  \n",
       " Median :0.00000   Median :0.00000   Median :0.00000   Median :0.00000  \n",
       " Mean   :0.07277   Mean   :0.07455   Mean   :0.07277   Mean   :0.06429  \n",
       " 3rd Qu.:0.00000   3rd Qu.:0.00000   3rd Qu.:0.00000   3rd Qu.:0.00000  \n",
       " Max.   :1.00000   Max.   :1.00000   Max.   :1.00000   Max.   :1.00000  \n",
       "                                                                        \n",
       "  AcceptedCmp2        Complain        Z_CostContact   Z_Revenue \n",
       " Min.   :0.00000   Min.   :0.000000   Min.   :3     Min.   :11  \n",
       " 1st Qu.:0.00000   1st Qu.:0.000000   1st Qu.:3     1st Qu.:11  \n",
       " Median :0.00000   Median :0.000000   Median :3     Median :11  \n",
       " Mean   :0.01339   Mean   :0.009375   Mean   :3     Mean   :11  \n",
       " 3rd Qu.:0.00000   3rd Qu.:0.000000   3rd Qu.:3     3rd Qu.:11  \n",
       " Max.   :1.00000   Max.   :1.000000   Max.   :3     Max.   :11  \n",
       "                                                                \n",
       "    Response     \n",
       " Min.   :0.0000  \n",
       " 1st Qu.:0.0000  \n",
       " Median :0.0000  \n",
       " Mean   :0.1491  \n",
       " 3rd Qu.:0.0000  \n",
       " Max.   :1.0000  \n",
       "                 "
      ]
     },
     "metadata": {},
     "output_type": "display_data"
    }
   ],
   "source": [
    "dataset <- read.delim(\"marketing_campaign.csv\") \n",
    "dim(dataset) # 2240 observaciones y 29 variables\n",
    "dataset[1:10,] \n",
    "str(dataset[1:10,])\n",
    "summary(dataset) \n"
   ]
  },
  {
   "cell_type": "markdown",
   "id": "2a4800d3-71bc-4ab1-a308-a48bb2be836f",
   "metadata": {},
   "source": [
    "Con un primer vistazo a los datos y con la función `summary(dataset)` se puedo determinar cuestiones como Variables Innecesarias y NAs."
   ]
  },
  {
   "cell_type": "markdown",
   "id": "020a1037-be37-4be7-a73e-c4d1c86abdf3",
   "metadata": {},
   "source": [
    "## Variables Innecesarias"
   ]
  },
  {
   "cell_type": "markdown",
   "id": "ed751d6b-593b-4524-9794-de88bf5ff2b2",
   "metadata": {},
   "source": [
    "Las variables **Z_CostContact** y **Z_Revenue** mantienen un valor constante de 3 y 11 respectivamente para todas las observaciones del dataset, por lo que no contribuyen en el análisis y se procede a borrarlas."
   ]
  },
  {
   "attachments": {
    "f643492a-ce5e-4912-8fa3-4510173d3764.png": {
     "image/png": "[encoded data removed]"
    }
   },
   "cell_type": "markdown",
   "id": "3adde7d9-a23c-499b-b0be-c99b82f01a89",
   "metadata": {},
   "source": [
    "![image.png](attachment:f643492a-ce5e-4912-8fa3-4510173d3764.png)"
   ]
  },
  {
   "cell_type": "code",
   "execution_count": 1098,
   "id": "9af941f9-a19b-4084-b598-e35b809a3823",
   "metadata": {
    "tags": []
   },
   "outputs": [
    {
     "data": {
      "text/html": [
       "<style>\n",
       ".list-inline {list-style: none; margin:0; padding: 0}\n",
       ".list-inline>li {display: inline-block}\n",
       ".list-inline>li:not(:last-child)::after {content: \"\\00b7\"; padding: 0 .5ex}\n",
       "</style>\n",
       "<ol class=list-inline><li>2240</li><li>27</li></ol>\n"
      ],
      "text/latex": [
       "\\begin{enumerate*}\n",
       "\\item 2240\n",
       "\\item 27\n",
       "\\end{enumerate*}\n"
      ],
      "text/markdown": [
       "1. 2240\n",
       "2. 27\n",
       "\n",
       "\n"
      ],
      "text/plain": [
       "[1] 2240   27"
      ]
     },
     "metadata": {},
     "output_type": "display_data"
    }
   ],
   "source": [
    "# Se borran variables con valores constantes\n",
    "dataset <- subset(dataset, select = -c(Z_CostContact, Z_Revenue))\n",
    "dim(dataset) # ahora 27 variables"
   ]
  },
  {
   "cell_type": "markdown",
   "id": "e6902b25-6c10-417f-abfc-8edaa39d7133",
   "metadata": {},
   "source": [
    "## Valores Faltantes (NA)"
   ]
  },
  {
   "cell_type": "markdown",
   "id": "6cfc47e1-24b7-4ce6-beda-bc8e7ea97ad0",
   "metadata": {},
   "source": [
    "La variables **Income** es la única que tiene 24 observaciones con valores faltantes, las cuales representan menos del 2% de las 2240 observaciones originales, por lo que opté por eliminarlas."
   ]
  },
  {
   "attachments": {
    "00376cb4-5cf8-4fce-b520-3b325fdfbdc2.png": {
     "image/png": "[encoded data removed]"
    }
   },
   "cell_type": "markdown",
   "id": "7f18b545-1c7d-4bb9-afdc-16131844e3ea",
   "metadata": {},
   "source": [
    "![image.png](attachment:00376cb4-5cf8-4fce-b520-3b325fdfbdc2.png)"
   ]
  },
  {
   "cell_type": "code",
   "execution_count": 1100,
   "id": "2aad73dd-8048-4b38-ba1c-dadcdefaa456",
   "metadata": {
    "tags": []
   },
   "outputs": [
    {
     "data": {
      "text/html": [
       "2216"
      ],
      "text/latex": [
       "2216"
      ],
      "text/markdown": [
       "2216"
      ],
      "text/plain": [
       "[1] 2216"
      ]
     },
     "metadata": {},
     "output_type": "display_data"
    }
   ],
   "source": [
    "# Se borra NAs en variable Income\n",
    "dataset <- dataset[complete.cases(dataset$Income),] \n",
    "dim(dataset)[1]  # ahora 2216 registros"
   ]
  },
  {
   "cell_type": "markdown",
   "id": "0f7fd77f-53c6-4bcf-9567-7ba09bc61db3",
   "metadata": {},
   "source": [
    "## Nivel de Educación"
   ]
  },
  {
   "cell_type": "markdown",
   "id": "223d39cb-47dd-4b8c-bcd3-80a55154aefd",
   "metadata": {},
   "source": [
    "En el gráfico de barras se observan las categorías de la variable **Education**,  los cuales son: Nivel Básico(1er ciclo de secundaria), 2do ciclo de Secundaria, Graduado, Maestría y Doctorado; siendo en mayoría clientes con altos niveles educativos, principalmente graduados."
   ]
  },
  {
   "cell_type": "code",
   "execution_count": 1102,
   "id": "0530a92e",
   "metadata": {
    "tags": []
   },
   "outputs": [
    {
     "data": {
      "image/png": "[encoded data removed]",
      "text/plain": [
       "plot without title"
      ]
     },
     "metadata": {
      "image/png": {
       "height": 420,
       "width": 420
      }
     },
     "output_type": "display_data"
    }
   ],
   "source": [
    "orden_Education <- c(\"Basic\", \"2n Cycle\", \"Graduation\", \"Master\", \"PhD\")\n",
    "dataset$Education <- as.integer(factor(dataset$Education, levels = orden_Education, ordered = TRUE))\n",
    "\n",
    "ggplot(dataset, aes(x = factor(Education, levels = 1:5), fill = factor(Education, levels = 1:5))) +\n",
    "  geom_bar() +\n",
    "  geom_text(stat = 'count', aes(label = after_stat(count)), vjust = -0.5) +  \n",
    "  scale_fill_brewer(palette = \"Set3\") +  \n",
    "  labs(title = \"Distribución de Educación\", x = \"Nivel de Educación\", y = \"Frecuencia\") +\n",
    "  scale_x_discrete(labels = orden_education) +  \n",
    "  theme_minimal() +\n",
    "  guides(fill = \"none\") "
   ]
  },
  {
   "cell_type": "markdown",
   "id": "6b1ae4de-6437-4079-a6d8-ebeade6664c2",
   "metadata": {},
   "source": [
    "## Estado Civil"
   ]
  },
  {
   "cell_type": "markdown",
   "id": "c9a4fb4c-09a9-402a-8832-3ad9df54f1cc",
   "metadata": {},
   "source": [
    "#### Datos Erróneos"
   ]
  },
  {
   "cell_type": "markdown",
   "id": "b0aace6b-d009-4f8c-8898-9ea6b95a571a",
   "metadata": {},
   "source": [
    "Realizando una tabla de frecuencias de la variable categórica **Marital_Status** se observan 2 categorías: **Absurd** y **YOLO**, que carecen de sentido para esta variable y son solo 4 observaciones, por lo que se consideraron datos erróneos y se eliminaron. Luego, la categoría **Alone** pareciera hacer referencia a lo mismo que la categoría **Single**, siendo estas las personas solteras, por lo que los 3 individuos de **Alone** se agregaron a **Single**"
   ]
  },
  {
   "cell_type": "code",
   "execution_count": 1104,
   "id": "60682317-3960-422d-83cd-0bea7922cd6d",
   "metadata": {},
   "outputs": [
    {
     "data": {
      "text/plain": [
       "\n",
       "  Absurd    Alone Divorced  Married   Single Together    Widow     YOLO \n",
       "       2        3      232      857      471      573       76        2 "
      ]
     },
     "metadata": {},
     "output_type": "display_data"
    },
    {
     "data": {
      "text/plain": [
       "\n",
       "Divorced  Married   Single Together    Widow \n",
       "     232      857      474      573       76 "
      ]
     },
     "metadata": {},
     "output_type": "display_data"
    }
   ],
   "source": [
    "table(dataset$Marital_Status)\n",
    "dataset$Marital_Status <- as.character(dataset$Marital_Status)\n",
    "dataset$Marital_Status <- ifelse(dataset$Marital_Status == \"Alone\", \"Single\", dataset$Marital_Status)\n",
    "dataset <- subset(dataset, Marital_Status!=\"Absurd\" & Marital_Status!=\"YOLO\")\n",
    "table(dataset$Marital_Status)"
   ]
  },
  {
   "cell_type": "markdown",
   "id": "4dafc0e4-14db-4e3a-8e1b-830bded77b30",
   "metadata": {},
   "source": [
    "   "
   ]
  },
  {
   "cell_type": "markdown",
   "id": "78697789-2471-45da-8d23-a03c30ffbdd1",
   "metadata": {},
   "source": [
    "Pudiendose apreciar mejor en el siguiente gráfico de torta las categorías: Casado, Soltero, Unido, Divorciado y Viudo; siendo en minoría los individuos viudos y divorciados, mientras que el resto mantienen una proporción semenjante."
   ]
  },
  {
   "cell_type": "code",
   "execution_count": 1106,
   "id": "63d5039a-a77a-4b11-a0d8-0a3ed47ba8ec",
   "metadata": {},
   "outputs": [
    {
     "data": {
      "image/png": "[encoded data removed]",
      "text/plain": [
       "plot without title"
      ]
     },
     "metadata": {
      "image/png": {
       "height": 420,
       "width": 420
      }
     },
     "output_type": "display_data"
    }
   ],
   "source": [
    "ggplot(dataset, aes(x = \"\", fill = factor(Marital_Status))) +\n",
    "  geom_bar(width = 1) +  \n",
    "  coord_polar(\"y\", start = 0) +  \n",
    "  geom_text(aes(label = paste0(round(after_stat(count)/sum(after_stat(count)) * 100, 1), \"%\")), \n",
    "            stat = \"count\", \n",
    "            position = position_stack(vjust = 0.5)) +  \n",
    "  scale_fill_brewer(palette = \"Set2\", name = \"Estado Civil\") +  \n",
    "  labs(title = \"Estado Civil\", x = NULL, y = NULL) +\n",
    "  theme_minimal() +\n",
    "  theme(legend.position = \"right\", axis.text.x = element_blank(), axis.ticks = element_blank())   "
   ]
  },
  {
   "cell_type": "markdown",
   "id": "73c7d8f6-262b-4bbe-949b-f1cca3c6d7c0",
   "metadata": {},
   "source": [
    "## Ingresos"
   ]
  },
  {
   "cell_type": "markdown",
   "id": "bad01a72-bb16-4c7d-807f-4f79ec0d2a2b",
   "metadata": {},
   "source": [
    "#### Outlier"
   ]
  },
  {
   "cell_type": "markdown",
   "id": "85097c53-6f29-4f69-a4da-c27742695988",
   "metadata": {},
   "source": [
    "En el siguiente boxplot de la variable **Income** se puede apreciar que en los valores de los ingresos de los clientes hay uno que que se encuentra demasiado alejado del resto, incluso muy por encima de otros outliers. En la tabla de frecuencia se identifica que este valor es mayor que 650000, el cual directamente se eliminó por ser un solo valor tan atípico que se escapa de las muestra que se está analizando."
   ]
  },
  {
   "cell_type": "code",
   "execution_count": 1108,
   "id": "6c602bf9-bd2d-4570-bd0e-c5fec9674c3c",
   "metadata": {},
   "outputs": [
    {
     "data": {
      "text/html": [
       "<table class=\"dataframe\">\n",
       "<caption>A data.frame: 14 × 7</caption>\n",
       "<thead>\n",
       "\t<tr><th scope=col>Lower</th><th scope=col>Upper</th><th scope=col>Main</th><th scope=col>Frequency</th><th scope=col>Percentage</th><th scope=col>CF</th><th scope=col>CPF</th></tr>\n",
       "\t<tr><th scope=col>&lt;dbl&gt;</th><th scope=col>&lt;dbl&gt;</th><th scope=col>&lt;dbl&gt;</th><th scope=col>&lt;dbl&gt;</th><th scope=col>&lt;dbl&gt;</th><th scope=col>&lt;dbl&gt;</th><th scope=col>&lt;dbl&gt;</th></tr>\n",
       "</thead>\n",
       "<tbody>\n",
       "\t<tr><td>     0</td><td> 50000</td><td> 25000</td><td>1058</td><td>47.8</td><td>1058</td><td> 47.8</td></tr>\n",
       "\t<tr><td> 50000</td><td>100000</td><td> 75000</td><td>1141</td><td>51.6</td><td>2199</td><td> 99.4</td></tr>\n",
       "\t<tr><td>100000</td><td>150000</td><td>125000</td><td>   5</td><td> 0.2</td><td>2204</td><td> 99.6</td></tr>\n",
       "\t<tr><td>150000</td><td>200000</td><td>175000</td><td>   7</td><td> 0.3</td><td>2211</td><td>100.0</td></tr>\n",
       "\t<tr><td>200000</td><td>250000</td><td>225000</td><td>   0</td><td> 0.0</td><td>2211</td><td>100.0</td></tr>\n",
       "\t<tr><td>250000</td><td>300000</td><td>275000</td><td>   0</td><td> 0.0</td><td>2211</td><td>100.0</td></tr>\n",
       "\t<tr><td>300000</td><td>350000</td><td>325000</td><td>   0</td><td> 0.0</td><td>2211</td><td>100.0</td></tr>\n",
       "\t<tr><td>350000</td><td>400000</td><td>375000</td><td>   0</td><td> 0.0</td><td>2211</td><td>100.0</td></tr>\n",
       "\t<tr><td>400000</td><td>450000</td><td>425000</td><td>   0</td><td> 0.0</td><td>2211</td><td>100.0</td></tr>\n",
       "\t<tr><td>450000</td><td>500000</td><td>475000</td><td>   0</td><td> 0.0</td><td>2211</td><td>100.0</td></tr>\n",
       "\t<tr><td>500000</td><td>550000</td><td>525000</td><td>   0</td><td> 0.0</td><td>2211</td><td>100.0</td></tr>\n",
       "\t<tr><td>550000</td><td>600000</td><td>575000</td><td>   0</td><td> 0.0</td><td>2211</td><td>100.0</td></tr>\n",
       "\t<tr><td>600000</td><td>650000</td><td>625000</td><td>   0</td><td> 0.0</td><td>2211</td><td>100.0</td></tr>\n",
       "\t<tr><td>650000</td><td>700000</td><td>675000</td><td>   1</td><td> 0.0</td><td>2212</td><td>100.0</td></tr>\n",
       "</tbody>\n",
       "</table>\n"
      ],
      "text/latex": [
       "A data.frame: 14 × 7\n",
       "\\begin{tabular}{lllllll}\n",
       " Lower & Upper & Main & Frequency & Percentage & CF & CPF\\\\\n",
       " <dbl> & <dbl> & <dbl> & <dbl> & <dbl> & <dbl> & <dbl>\\\\\n",
       "\\hline\n",
       "\t      0 &  50000 &  25000 & 1058 & 47.8 & 1058 &  47.8\\\\\n",
       "\t  50000 & 100000 &  75000 & 1141 & 51.6 & 2199 &  99.4\\\\\n",
       "\t 100000 & 150000 & 125000 &    5 &  0.2 & 2204 &  99.6\\\\\n",
       "\t 150000 & 200000 & 175000 &    7 &  0.3 & 2211 & 100.0\\\\\n",
       "\t 200000 & 250000 & 225000 &    0 &  0.0 & 2211 & 100.0\\\\\n",
       "\t 250000 & 300000 & 275000 &    0 &  0.0 & 2211 & 100.0\\\\\n",
       "\t 300000 & 350000 & 325000 &    0 &  0.0 & 2211 & 100.0\\\\\n",
       "\t 350000 & 400000 & 375000 &    0 &  0.0 & 2211 & 100.0\\\\\n",
       "\t 400000 & 450000 & 425000 &    0 &  0.0 & 2211 & 100.0\\\\\n",
       "\t 450000 & 500000 & 475000 &    0 &  0.0 & 2211 & 100.0\\\\\n",
       "\t 500000 & 550000 & 525000 &    0 &  0.0 & 2211 & 100.0\\\\\n",
       "\t 550000 & 600000 & 575000 &    0 &  0.0 & 2211 & 100.0\\\\\n",
       "\t 600000 & 650000 & 625000 &    0 &  0.0 & 2211 & 100.0\\\\\n",
       "\t 650000 & 700000 & 675000 &    1 &  0.0 & 2212 & 100.0\\\\\n",
       "\\end{tabular}\n"
      ],
      "text/markdown": [
       "\n",
       "A data.frame: 14 × 7\n",
       "\n",
       "| Lower &lt;dbl&gt; | Upper &lt;dbl&gt; | Main &lt;dbl&gt; | Frequency &lt;dbl&gt; | Percentage &lt;dbl&gt; | CF &lt;dbl&gt; | CPF &lt;dbl&gt; |\n",
       "|---|---|---|---|---|---|---|\n",
       "|      0 |  50000 |  25000 | 1058 | 47.8 | 1058 |  47.8 |\n",
       "|  50000 | 100000 |  75000 | 1141 | 51.6 | 2199 |  99.4 |\n",
       "| 100000 | 150000 | 125000 |    5 |  0.2 | 2204 |  99.6 |\n",
       "| 150000 | 200000 | 175000 |    7 |  0.3 | 2211 | 100.0 |\n",
       "| 200000 | 250000 | 225000 |    0 |  0.0 | 2211 | 100.0 |\n",
       "| 250000 | 300000 | 275000 |    0 |  0.0 | 2211 | 100.0 |\n",
       "| 300000 | 350000 | 325000 |    0 |  0.0 | 2211 | 100.0 |\n",
       "| 350000 | 400000 | 375000 |    0 |  0.0 | 2211 | 100.0 |\n",
       "| 400000 | 450000 | 425000 |    0 |  0.0 | 2211 | 100.0 |\n",
       "| 450000 | 500000 | 475000 |    0 |  0.0 | 2211 | 100.0 |\n",
       "| 500000 | 550000 | 525000 |    0 |  0.0 | 2211 | 100.0 |\n",
       "| 550000 | 600000 | 575000 |    0 |  0.0 | 2211 | 100.0 |\n",
       "| 600000 | 650000 | 625000 |    0 |  0.0 | 2211 | 100.0 |\n",
       "| 650000 | 700000 | 675000 |    1 |  0.0 | 2212 | 100.0 |\n",
       "\n"
      ],
      "text/plain": [
       "   Lower  Upper  Main   Frequency Percentage CF   CPF  \n",
       "1       0  50000  25000 1058      47.8       1058  47.8\n",
       "2   50000 100000  75000 1141      51.6       2199  99.4\n",
       "3  100000 150000 125000    5       0.2       2204  99.6\n",
       "4  150000 200000 175000    7       0.3       2211 100.0\n",
       "5  200000 250000 225000    0       0.0       2211 100.0\n",
       "6  250000 300000 275000    0       0.0       2211 100.0\n",
       "7  300000 350000 325000    0       0.0       2211 100.0\n",
       "8  350000 400000 375000    0       0.0       2211 100.0\n",
       "9  400000 450000 425000    0       0.0       2211 100.0\n",
       "10 450000 500000 475000    0       0.0       2211 100.0\n",
       "11 500000 550000 525000    0       0.0       2211 100.0\n",
       "12 550000 600000 575000    0       0.0       2211 100.0\n",
       "13 600000 650000 625000    0       0.0       2211 100.0\n",
       "14 650000 700000 675000    1       0.0       2212 100.0"
      ]
     },
     "metadata": {},
     "output_type": "display_data"
    },
    {
     "data": {
      "image/png": "[encoded data removed]",
      "text/plain": [
       "Plot with title \"Boxplot Income\""
      ]
     },
     "metadata": {
      "image/png": {
       "height": 420,
       "width": 420
      }
     },
     "output_type": "display_data"
    },
    {
     "data": {
      "image/png": "[encoded data removed]",
      "text/plain": [
       "Plot with title \"Histogram of dataset$Income\""
      ]
     },
     "metadata": {
      "image/png": {
       "height": 420,
       "width": 420
      }
     },
     "output_type": "display_data"
    }
   ],
   "source": [
    "tabla_frecuencias <- table.freq(hist(dataset$Income, plot = FALSE))\n",
    "tabla_frecuencias\n",
    "boxplot(dataset$Income, horizontal = TRUE, main = \"Boxplot Income\")\n",
    "dataset <- subset(dataset, Income<650000)\n",
    "hist(dataset$Income)"
   ]
  },
  {
   "cell_type": "markdown",
   "id": "c2b0179f-c347-45bd-b097-b8763c882719",
   "metadata": {},
   "source": [
    "## Hijos menores"
   ]
  },
  {
   "cell_type": "markdown",
   "id": "88d3fdc6-c846-44d4-9d1f-30716f67ea7d",
   "metadata": {},
   "source": [
    "#### Creación de Nuevas Variables de Interés"
   ]
  },
  {
   "cell_type": "markdown",
   "id": "2bc49298-54ef-491a-b16f-51d23f57916a",
   "metadata": {},
   "source": [
    "Con las variables **Kidhome** y **Teenhome** que indican la cantidad de niños y adolescentes respectivamente en el hogar del cliente, decidí crear las variables: <br> - **CantMenores**: indica la cantidad de hijos menores en el hogar del cliente. <br> - **MenorEnCasa**: indica si el cliente tiene algun hijo menor o no. \n",
    "<br> <br> Además, en la tabla de frecuencia se puede ver que no existen clientes que tengan mas de 3 hijos menores"
   ]
  },
  {
   "cell_type": "code",
   "execution_count": 1110,
   "id": "cde8e254-8546-4ab7-8647-51539abadd2d",
   "metadata": {
    "tags": []
   },
   "outputs": [
    {
     "data": {
      "text/plain": [
       "\n",
       "   0    1    2    3 \n",
       " 631 1114  416   50 "
      ]
     },
     "metadata": {},
     "output_type": "display_data"
    }
   ],
   "source": [
    "dataset$CantMenores <- dataset$Kidhome + dataset$Teenhome\n",
    "dataset$MenorEnCasa <- as.integer(dataset$CantMenores > 0)\n",
    "table(dataset$CantMenores)"
   ]
  },
  {
   "cell_type": "markdown",
   "id": "0e181c74-fe38-4965-a45e-40ad04987112",
   "metadata": {},
   "source": [
    "<br> En el siguiente gráfico de torta se puede apreciar mejor la cantidad de hijos menores en el hogar del cliente, siendo solo un 28.5% los clientes que no tienen hijos menores, mientras que el resto si tiene al menos uno."
   ]
  },
  {
   "cell_type": "code",
   "execution_count": 275,
   "id": "99700d06-adc0-402f-b506-d8f2aa291458",
   "metadata": {},
   "outputs": [
    {
     "data": {
      "image/png": "[encoded data removed]",
      "text/plain": [
       "plot without title"
      ]
     },
     "metadata": {
      "image/png": {
       "height": 420,
       "width": 420
      }
     },
     "output_type": "display_data"
    }
   ],
   "source": [
    "categorias <- c(\"0 Hijos menores\", \"1 Hijo menor\", \"2 Hijos menores\", \"3 Hijos menores\")\n",
    "ggplot(dataset, aes(x = \"\", fill = factor(CantMenores, labels = categorias))) +\n",
    "  geom_bar(width = 1) +  \n",
    "  coord_polar(\"y\", start = 0) +  \n",
    "  geom_text(aes(label = paste(round((..count..)/sum(..count..) * 100, 1), \"%\")), stat = \"count\", position = position_stack(vjust = 0.5)) + \n",
    "  scale_fill_brewer() + \n",
    "  labs(title = \"\", fill = \"Hijos menores en el Hogar\", x = NULL, y = NULL) +\n",
    "  theme_minimal() +\n",
    "  theme(legend.position = \"right\") + \n",
    "  theme(axis.text.x = element_blank(),  axis.ticks = element_blank()) "
   ]
  },
  {
   "cell_type": "markdown",
   "id": "8653e346-2739-4f3a-ab5d-6dd50a0a3319",
   "metadata": {},
   "source": [
    "## Edad"
   ]
  },
  {
   "cell_type": "markdown",
   "id": "2ddbabd4-67bc-4371-a5f1-dc2793a48c97",
   "metadata": {},
   "source": [
    "#### Creación de Nueva Variable"
   ]
  },
  {
   "cell_type": "markdown",
   "id": "87a9db2a-12f8-4f4b-96e8-aaa8ff4e8676",
   "metadata": {},
   "source": [
    "Con la variable **Year_Birth** que indica el año de nacimiento del cliente, creé una nueva variable que indique la edad aproximada del cliente, teniendo en cuenta también la variable **Dt_Customer** que indica la fecha de registro del cliente, con la cual se estima el año en que se realizó la muestra."
   ]
  },
  {
   "cell_type": "code",
   "execution_count": 1069,
   "id": "768049ab-cc83-4a68-9446-128ea796b9a9",
   "metadata": {},
   "outputs": [
    {
     "data": {
      "text/plain": [
       "\n",
       "2012 2013 2014 \n",
       " 487 1172  552 "
      ]
     },
     "metadata": {},
     "output_type": "display_data"
    }
   ],
   "source": [
    "dataset$Anio_Registro <- as.integer(format(dataset$Dt_Customer, \"%Y\"))   \n",
    "table(dataset$Anio_Registro) "
   ]
  },
  {
   "cell_type": "markdown",
   "id": "92142f46-ecaf-40e8-8bff-4e06f3ef989e",
   "metadata": {},
   "source": [
    "#### Ajuste de outliers"
   ]
  },
  {
   "cell_type": "markdown",
   "id": "ac6c7fca-1219-4041-913a-406adae1b19e",
   "metadata": {},
   "source": [
    "Como el último año de registro de los clientes fue en 2014 entonces se utilizó ese año para estimar la Edad. Luego, se detectó 3 outliers y se reemplazaron por la mediana, para no trabajar con esos 3 valores atípicos de edad que se escapan de la muestra en cuestión. Por último, se graficó un histograma que muestra una alta concentración de clientes entre 35 y 45 años."
   ]
  },
  {
   "cell_type": "code",
   "execution_count": 1112,
   "id": "dce8fa9f-5a85-4cc3-b0e9-6b09ecebd863",
   "metadata": {},
   "outputs": [
    {
     "data": {
      "image/png": "[encoded data removed]",
      "text/plain": [
       "Plot with title \"Boxplot de Edad\""
      ]
     },
     "metadata": {
      "image/png": {
       "height": 420,
       "width": 420
      }
     },
     "output_type": "display_data"
    },
    {
     "data": {
      "image/png": "[encoded data removed]",
      "text/plain": [
       "Plot with title \"Histograma de Edad\""
      ]
     },
     "metadata": {
      "image/png": {
       "height": 420,
       "width": 420
      }
     },
     "output_type": "display_data"
    }
   ],
   "source": [
    "dataset$Edad <- 2014 - dataset$Year_Birth\n",
    "boxplot <- boxplot(dataset$Edad, horizontal = TRUE, main = \"Boxplot de Edad\")\n",
    "limite_superior <- boxplot$stats[5]\n",
    "mediana_edad <- median(dataset$Edad[dataset$Edad<limite_superior], na.rm = TRUE)\n",
    "dataset$Edad[dataset$Edad>limite_superior] <- mediana_edad\n",
    "hist(dataset$Edad, main = \"Histograma de Edad\", xlab = \"Edad\", ylab = \"Frecuencia\",col = \"lightblue\")"
   ]
  },
  {
   "cell_type": "markdown",
   "id": "9e025965-11a2-4656-b65d-1980feabdee8",
   "metadata": {},
   "source": [
    "## Montos gastados en productos"
   ]
  },
  {
   "cell_type": "markdown",
   "id": "49b16140-0a73-4cc3-b2bc-d77d1c64e7e7",
   "metadata": {},
   "source": [
    "### Boxpot multivariado"
   ]
  },
  {
   "cell_type": "markdown",
   "id": "79a1cb43-7f3c-4907-a9d2-bb759cf30e3b",
   "metadata": {},
   "source": [
    "En el siguiente gráfico de boxplots de los montos gastados en productos se los puede comparar e identificar cuestiones como: <br> - En todas las variables existe un grupo concentrado de outliers de clientes que tienen mayores gastos que la mayoría de clientes que tienen gastos mas bajos. <br> - Existen 2 tipos de productos asociados a **MntWines** y **MntMeatProducts** que tienen en general un gasto muy por encima del resto de productos en el que los clientes no gastan mas 400 unidades monetarias."
   ]
  },
  {
   "cell_type": "code",
   "execution_count": 1076,
   "id": "a48cb385-c0d5-44a3-a08f-57b3b365ea67",
   "metadata": {},
   "outputs": [
    {
     "data": {
      "image/png": "[encoded data removed]",
      "text/plain": [
       "plot without title"
      ]
     },
     "metadata": {
      "image/png": {
       "height": 420,
       "width": 420
      }
     },
     "output_type": "display_data"
    }
   ],
   "source": [
    "productos <- dataset[, c(\"MntWines\", \"MntFruits\", \"MntMeatProducts\", \"MntFishProducts\", \"MntSweetProducts\", \"MntGoldProds\")]\n",
    "dataset_long <- pivot_longer(productos, cols = everything(), names_to = \"Producto\", values_to = \"Monto\") \n",
    "ggplot(dataset_long, aes(x = Producto, y = Monto, fill = Producto)) +\n",
    "  geom_boxplot() +\n",
    "  coord_flip() + \n",
    "  scale_fill_brewer(palette = \"Set3\") + \n",
    "  labs(title = \"Boxplots de Montos Gastados en Productos\", x = \"Productos\", y = \"Montos Gastado\") +\n",
    "  theme_minimal() +  \n",
    "  theme(legend.position = \"none\") "
   ]
  },
  {
   "cell_type": "markdown",
   "id": "4695429f-6c03-4b9f-9cea-b1a916f9b244",
   "metadata": {},
   "source": [
    "### Porcentaje de gastos en Productos"
   ]
  },
  {
   "cell_type": "markdown",
   "id": "9ea2e5f4-6942-451e-a4d1-f06b9b707038",
   "metadata": {},
   "source": [
    "Se calculó el total de gastos realizados por cada uno de los productos y se graficaron. En las gráficas se puede apreciar el 50.5% de los gastos de los productos está asociado a vinos, seguido por gastos en carnes del 27.2%, y luego el resto de productos que tienen una proporción semejante de gastos."
   ]
  },
  {
   "cell_type": "code",
   "execution_count": 1934,
   "id": "1eb35dff-f9d9-4b42-8d51-1518c4a88021",
   "metadata": {},
   "outputs": [
    {
     "data": {
      "image/png": "[encoded data removed]",
      "text/plain": [
       "plot without title"
      ]
     },
     "metadata": {
      "image/png": {
       "height": 420,
       "width": 420
      }
     },
     "output_type": "display_data"
    }
   ],
   "source": [
    "ofertas_totales <- data.frame(\n",
    "  Campaña = c(\"Vino\",\"Fruta\",\"Carne\",\"Pescado\",\"Dulces\",\"Oro\"),\n",
    "  Total = c(sum(dataset$MntWines), \n",
    "            sum(dataset$MntFruits),\n",
    "            sum(dataset$MntMeatProducts),\n",
    "            sum(dataset$MntFishProducts),\n",
    "            sum(dataset$MntSweetProducts),\n",
    "            sum(dataset$MntGoldProds))\n",
    ")\n",
    "\n",
    "ggplot(ofertas_totales, aes(x = \"\", y = Total, fill = Campaña)) +\n",
    "  geom_bar(width = 1, stat = \"identity\") +  \n",
    "  coord_polar(\"y\", start = 0) +  \n",
    "  geom_text(aes(label = paste0(round(Total/sum(Total) * 100, 1), \"%\")), \n",
    "            position = position_stack(vjust = 0.5)) + \n",
    "  scale_fill_brewer(palette = \"Set3\") + \n",
    "  labs(title = \"Distribución de Gastos en Productos\", fill = \"Productos\", x = NULL, y = NULL) +\n",
    "  theme_minimal() +\n",
    "  theme(axis.text.x = element_blank(), axis.ticks = element_blank())"
   ]
  },
  {
   "cell_type": "markdown",
   "id": "e61cb048-b445-438f-8412-26fc0bd64694",
   "metadata": {},
   "source": [
    "## Ofertas aceptadas en campañas"
   ]
  },
  {
   "cell_type": "markdown",
   "id": "516af162-e1d6-4c8b-bca0-2e46b639d61a",
   "metadata": {},
   "source": [
    "Se calculó el total de ofertas aceptadas en cada uno de las campañas, y se graficaron. En las gráficas se puede apreciar que la mejor campaña donde hubo una mayor aceptación de ofertas fue la última(Nro 6), la cual en general duplica la aceptación respecto a la mayoría; mientras que la oferta 2 fue la peor, representando solo el 3% de todas las ofertas aceptadas."
   ]
  },
  {
   "cell_type": "code",
   "execution_count": 2005,
   "id": "8a68a792-a1d5-4d35-9236-1cec14b7071c",
   "metadata": {},
   "outputs": [
    {
     "data": {
      "image/png": "[encoded data removed]",
      "text/plain": [
       "plot without title"
      ]
     },
     "metadata": {
      "image/png": {
       "height": 420,
       "width": 420
      }
     },
     "output_type": "display_data"
    },
    {
     "data": {
      "image/png": "[encoded data removed]",
      "text/plain": [
       "plot without title"
      ]
     },
     "metadata": {
      "image/png": {
       "height": 420,
       "width": 420
      }
     },
     "output_type": "display_data"
    }
   ],
   "source": [
    "ofertas_totales <- data.frame(\n",
    "  Campaña = c(\"Campaña1\",\"Campaña2\",\"Campaña3\",\"Campaña4\",\"Campaña5\",\"Campaña6\"),\n",
    "  Total = c(sum(dataset$AcceptedCmp1), \n",
    "            sum(dataset$AcceptedCmp2),\n",
    "            sum(dataset$AcceptedCmp3),\n",
    "            sum(dataset$AcceptedCmp4),\n",
    "            sum(dataset$AcceptedCmp5),\n",
    "            sum(dataset$Response))\n",
    ")\n",
    "\n",
    "ggplot(ofertas_totales, aes(x = Campaña, y = Total, fill = Campaña)) +\n",
    "  geom_bar(stat = \"identity\") +  \n",
    "  geom_text(aes(label = Total), vjust = -0.5) +  \n",
    "  labs(title = \"Total de ofertas aceptadas\", x = \"Campañas\", y = \"Total\") +\n",
    "  scale_fill_brewer(palette = \"Set3\") +\n",
    "  theme_minimal() + \n",
    "  theme(legend.position = \"none\") \n",
    "\n",
    "ggplot(ofertas_totales, aes(x = \"\", y = Total, fill = Campaña)) +\n",
    "  geom_bar(width = 1, stat = \"identity\") +  \n",
    "  coord_polar(\"y\", start = 0) +  \n",
    "  geom_text(aes(label = paste0(round(Total/sum(Total) * 100, 1), \"%\")), \n",
    "            position = position_stack(vjust = 0.5)) + \n",
    "  scale_fill_brewer(palette = \"Set3\") + \n",
    "  labs(title = \"Proporción de Ofertas Aceptadas\", fill = \"Campañas\", x = NULL, y = NULL) +\n",
    "  theme_minimal() +\n",
    "  theme(axis.text.x = element_blank(), axis.ticks = element_blank())"
   ]
  },
  {
   "cell_type": "markdown",
   "id": "9b164508-08a9-4077-8655-d7e94964259a",
   "metadata": {},
   "source": [
    "#### Nuevas Variables de Interés"
   ]
  },
  {
   "cell_type": "markdown",
   "id": "76ccbff2-d570-4f9e-8728-cd302c45d6ff",
   "metadata": {},
   "source": [
    "Con las variables que indican las aceptación de las ofertas de las seis campañas: **AcceptedCmp1**, **AcceptedCmp2**, **AcceptedCmp3**, **AcceptedCmp4**, **AcceptedCmp5**, **Response**; decidí crear las variables: \n",
    "<br> - **CantCampAcep**: indica la cantidad total de ofertas en campaña que aceptó el cliente. \n",
    "<br> - **AcepAlguna**: indica si el cliente aceptó o no alguna oferta de las seis. \n",
    "<br> <br> En el siguiente gráfico de torta se puede apreciar que solo el 27.4% de los clientes aceptó al menos una oferta, mientras que el resto no aceptó ninguna:"
   ]
  },
  {
   "cell_type": "code",
   "execution_count": 1365,
   "id": "4d734768-b2dc-4779-8090-22fa1fe67b9b",
   "metadata": {},
   "outputs": [
    {
     "data": {
      "image/png": "[encoded data removed]",
      "text/plain": [
       "plot without title"
      ]
     },
     "metadata": {
      "image/png": {
       "height": 420,
       "width": 420
      }
     },
     "output_type": "display_data"
    }
   ],
   "source": [
    "dataset$CantCampAcep <- rowSums(dataset[, c(\"AcceptedCmp1\", \"AcceptedCmp2\", \"AcceptedCmp3\", \"AcceptedCmp4\", \"AcceptedCmp5\", \"Response\")])\n",
    "dataset$AcepAlguna <- as.integer(dataset$CantCampAcep > 0)\n",
    "\n",
    "ggplot(dataset, aes(x = \"\", fill = factor(AcepAlguna))) +\n",
    "  geom_bar(width = 1) +  \n",
    "  coord_polar(\"y\", start = 0) +  \n",
    "  geom_text(aes(label = paste(round((..count..)/sum(..count..) * 100, 1), \"%\")), stat = \"count\", position = position_stack(vjust = 0.5)) + \n",
    "  scale_fill_brewer(palette = \"Set2\") + \n",
    "  labs(title = \"\", fill = \"Aceptación de ofertas en campañas\", x = NULL, y = NULL) +\n",
    "  theme_minimal() +\n",
    "  theme(legend.position = \"right\") + \n",
    "  theme(axis.text.x = element_blank(),  axis.ticks = element_blank()) "
   ]
  },
  {
   "cell_type": "markdown",
   "id": "0c511038-9438-4af5-a327-9fe62b9c49b9",
   "metadata": {},
   "source": [
    "## Canales de Ventas"
   ]
  },
  {
   "cell_type": "markdown",
   "id": "3d5ca203-2121-48aa-be99-04e80427b4c1",
   "metadata": {},
   "source": [
    "Con las variables **NumCatalogPurchases**, **NumWebPurchases** y **NumStorePurchases**, se calculó el total de ventas realizadas por cada medio de ventas, realizando un gráfico de barras en el que se puede apreciar que la mayoría de las compras se realizan de forma física en la Tienda, seguido por las realizadas vía web, y por último las realizadas por catálogo."
   ]
  },
  {
   "cell_type": "code",
   "execution_count": 1367,
   "id": "d486a8ea-498b-48e2-94cb-0c8c7eaa76e6",
   "metadata": {},
   "outputs": [
    {
     "data": {
      "image/png": "[encoded data removed]",
      "text/plain": [
       "plot without title"
      ]
     },
     "metadata": {
      "image/png": {
       "height": 420,
       "width": 420
      }
     },
     "output_type": "display_data"
    }
   ],
   "source": [
    "compras_totales <- data.frame(\n",
    "  CanalDeVenta = c(\"Web\",\"Catálogo\",\"Tienda\"),\n",
    "  Total = c(sum(dataset$NumWebPurchases), \n",
    "            sum(dataset$NumCatalogPurchases),\n",
    "            sum(dataset$NumStorePurchases))\n",
    ")\n",
    "ggplot(compras_totales, aes(x = CanalDeVenta, y = Total, fill = CanalDeVenta)) +\n",
    "  geom_bar(stat = \"identity\") +  \n",
    "  geom_text(aes(label = Total), vjust = -0.5) +  \n",
    "  labs(title = \"Compras por canal de venta\", x = \"Canal de Venta\", y = \"Total de Compras\") +\n",
    "  scale_fill_brewer(palette = \"Set3\") +\n",
    "  theme_minimal() + \n",
    "  theme(legend.position = \"none\") "
   ]
  },
  {
   "cell_type": "markdown",
   "id": "19b6f875-6f88-4bd1-bae0-bc8766560a79",
   "metadata": {},
   "source": [
    "## Outliers multivariados"
   ]
  },
  {
   "cell_type": "markdown",
   "id": "b1321412-70f7-4dda-8f96-d19557bcaaac",
   "metadata": {},
   "source": [
    "   Se analiza la existencia de outliers a nivel multivariado entre todas las variables de gastos asociados a productos, junto con la variable de Ingresos. Se calculó las distancias de Mahalanobis entre cada observación, después se realizó un gráfico tridimensional entre 3 de las variables, en el cual se puede apreciar claramente los puntos alejados del resto. <BR> <BR>   En gráficos anteriores se pudo ver que algunas variables tenian un grupo pequeño de outliers, como en el caso de la variable **Income**; y que algunos de estos estaban incluso muy por encima de otro grupo concentrado de outliers, como es en el caso de la variable **MntMeatProducts**. En este análisis se identificó que esos outliers a nivel univariado, eran parte de un grupo de 9 outliers a nivel multivariado, siendo individuos con valores atípicos que no coincidian los ingresos ni gastos con los del resto de la muestra en cuestión. Por lo que se procedió a borrarlos, quedando **Income** y **MntMeatProducts** distribuidos como figuran en los siguientes boxplot."
   ]
  },
  {
   "cell_type": "code",
   "execution_count": 1117,
   "id": "18938851-e54d-4fa2-90b9-45b10a5219c5",
   "metadata": {},
   "outputs": [
    {
     "data": {
      "image/png": "[encoded data removed]",
      "text/plain": [
       "plot without title"
      ]
     },
     "metadata": {
      "image/png": {
       "height": 420,
       "width": 420
      }
     },
     "output_type": "display_data"
    }
   ],
   "source": [
    "dataset2 <- dataset[, c(\"Income\",\"MntWines\", \"MntFruits\", \"MntMeatProducts\", \"MntFishProducts\", \"MntSweetProducts\", \"MntGoldProds\")]\n",
    "mahalanobisDist <- mahalanobis(dataset2, colMeans(dataset2), cov(dataset2))\n",
    "mahalanobisDist <- order(mahalanobisDist, decreasing = TRUE)\n",
    "outliers <- rep(FALSE , nrow(dataset2))\n",
    "num.outliers <- 9\n",
    "outliers[mahalanobisDist[1:num.outliers]] <- TRUE\n",
    "colorear.outlier <- ifelse(outliers, \"red\", \"black\")\n",
    "scatterplot3d(dataset2[, c('MntMeatProducts', 'MntWines', 'Income' )], pch=16, color = colorear.outlier)\n",
    "outlier_indices <- which(outliers)  "
   ]
  },
  {
   "cell_type": "code",
   "execution_count": 1486,
   "id": "44f46cff-4d4a-4345-8e9f-8c0838d5fdb4",
   "metadata": {},
   "outputs": [
    {
     "data": {
      "image/png": "[encoded data removed]",
      "text/plain": [
       "Plot with title \"Histograma de Ingresos\""
      ]
     },
     "metadata": {
      "image/png": {
       "height": 420,
       "width": 420
      }
     },
     "output_type": "display_data"
    },
    {
     "data": {
      "image/png": "[encoded data removed]",
      "text/plain": [
       "Plot with title \"Histograma de Gastos en Carnes\""
      ]
     },
     "metadata": {
      "image/png": {
       "height": 420,
       "width": 420
      }
     },
     "output_type": "display_data"
    }
   ],
   "source": [
    "dataset = dataset[-outlier_indices, ] \n",
    "boxplot(dataset$Income, horizontal=TRUE, main = \"Histograma de Ingresos\") \n",
    "boxplot(dataset$MntMeatProducts, horizontal=TRUE, main = \"Histograma de Gastos en Carnes\")"
   ]
  },
  {
   "cell_type": "markdown",
   "id": "f3391368-9b9f-455f-ad4e-83b91f0268af",
   "metadata": {},
   "source": [
    "## Análisis de Componentes Principales"
   ]
  },
  {
   "cell_type": "markdown",
   "id": "06744537-406e-4976-915b-0b4cb4dd7947",
   "metadata": {},
   "source": [
    "#### Correlación"
   ]
  },
  {
   "cell_type": "markdown",
   "id": "f769a8c3-6d8a-4dc8-ab25-c635e98ebe22",
   "metadata": {},
   "source": [
    "Se analiza si existe correlación entre las variables asociadas a los gastos en productos. Primero se realizó un gráfico de calor para representar de forma visual la matriz de correlación, en la cual se puede observar correlación entre algunas variables. Por último, con los test estadísticos de Barlett y KMO, se determinó que efectivamente las variables son adecuadas para aplicar Análisis de Componentes Principales."
   ]
  },
  {
   "cell_type": "code",
   "execution_count": 1496,
   "id": "20bc2a98-d5f5-4679-9c92-c058680e5645",
   "metadata": {},
   "outputs": [
    {
     "data": {
      "text/html": [
       "<dl>\n",
       "\t<dt>$chisq</dt>\n",
       "\t\t<dd>5247.83521323343</dd>\n",
       "\t<dt>$p.value</dt>\n",
       "\t\t<dd>0</dd>\n",
       "\t<dt>$df</dt>\n",
       "\t\t<dd>15</dd>\n",
       "</dl>\n"
      ],
      "text/latex": [
       "\\begin{description}\n",
       "\\item[\\$chisq] 5247.83521323343\n",
       "\\item[\\$p.value] 0\n",
       "\\item[\\$df] 15\n",
       "\\end{description}\n"
      ],
      "text/markdown": [
       "$chisq\n",
       ":   5247.83521323343\n",
       "$p.value\n",
       ":   0\n",
       "$df\n",
       ":   15\n",
       "\n",
       "\n"
      ],
      "text/plain": [
       "$chisq\n",
       "[1] 5247.835\n",
       "\n",
       "$p.value\n",
       "[1] 0\n",
       "\n",
       "$df\n",
       "[1] 15\n"
      ]
     },
     "metadata": {},
     "output_type": "display_data"
    },
    {
     "data": {
      "text/plain": [
       "Kaiser-Meyer-Olkin factor adequacy\n",
       "Call: KMO(r = cor(dataset2))\n",
       "Overall MSA =  0.85\n",
       "MSA for each item = \n",
       "        MntWines        MntFruits  MntMeatProducts  MntFishProducts \n",
       "            0.81             0.88             0.82             0.86 \n",
       "MntSweetProducts     MntGoldProds \n",
       "            0.88             0.90 "
      ]
     },
     "metadata": {},
     "output_type": "display_data"
    },
    {
     "data": {
      "image/png": "[encoded data removed]",
      "text/plain": [
       "plot without title"
      ]
     },
     "metadata": {
      "image/png": {
       "height": 420,
       "width": 420
      }
     },
     "output_type": "display_data"
    }
   ],
   "source": [
    "var_correlacion <- c(\"MntWines\", \"MntFruits\", \"MntMeatProducts\", \"MntFishProducts\", \"MntSweetProducts\", \"MntGoldProds\")\n",
    "dataset2 <- dataset[, var_correlacion]\n",
    "\n",
    "cormat <- round(cor(dataset2),2) \n",
    "melted_cormat <- melt(cormat) \n",
    "ggplot(data = melted_cormat, aes(x=Var1, y=Var2, fill=value)) + \n",
    "  geom_tile()  + scale_fill_gradient2(low = \"blue\", high = \"red\",mid = \"white\")\n",
    "\n",
    "cortest.bartlett(cor(dataset2),nrow(dataset2))  #hay correlación                  \n",
    "KMO(cor(dataset2)) #hay correlación"
   ]
  },
  {
   "cell_type": "markdown",
   "id": "26983e37-7eb9-41c9-9e1b-961ae2434ae9",
   "metadata": {},
   "source": [
    "#### Reducción de dimensionalidad"
   ]
  },
  {
   "cell_type": "markdown",
   "id": "68b04f0b-20e1-47f1-8266-ebcb73c5411e",
   "metadata": {},
   "source": [
    "Aplicando Componentes Principales, se redujo la cantidad de variables de gastos en solo 2 componentes principales que conservan la mayor parte de la variabilidad de los datos, siendo las nuevas variables:\n",
    "<br> - **MntProdCotid**: relacionada a los gastos en compras de productos cotidianos, como ser carne, pescados, frutas y dulces.\n",
    "<br> - **MntProdPrescind**: más relacionada a la compra de productos casuales y prescindibles, como ser vinos y oro."
   ]
  },
  {
   "cell_type": "code",
   "execution_count": 1509,
   "id": "4409b6d5-3429-41e8-8912-9888163609a9",
   "metadata": {},
   "outputs": [
    {
     "data": {
      "text/plain": [
       "Importance of components:\n",
       "                          PC1    PC2    PC3     PC4     PC5     PC6\n",
       "Standard deviation     1.8565 0.8640 0.8199 0.64984 0.63622 0.55469\n",
       "Proportion of Variance 0.5744 0.1244 0.1120 0.07038 0.06746 0.05128\n",
       "Cumulative Proportion  0.5744 0.6988 0.8109 0.88126 0.94872 1.00000"
      ]
     },
     "metadata": {},
     "output_type": "display_data"
    },
    {
     "data": {
      "text/html": [
       "<table class=\"dataframe\">\n",
       "<caption>A matrix: 6 × 6 of type dbl</caption>\n",
       "<tbody>\n",
       "\t<tr><th scope=row>MntWines</th><td>-0.6895101</td><td> 0.51246018</td><td> 0.43731836</td><td> 0.010425805</td><td>-0.07090206</td><td> 0.25608056</td></tr>\n",
       "\t<tr><th scope=row>MntFruits</th><td>-0.7865811</td><td>-0.29302494</td><td>-0.09613204</td><td>-0.447321774</td><td>-0.28180685</td><td> 0.08169032</td></tr>\n",
       "\t<tr><th scope=row>MntMeatProducts</th><td>-0.8375810</td><td> 0.03378374</td><td> 0.29921147</td><td>-0.058462145</td><td> 0.11644376</td><td>-0.43682055</td></tr>\n",
       "\t<tr><th scope=row>MntFishProducts</th><td>-0.8073222</td><td>-0.24414576</td><td>-0.10852490</td><td> 0.006662118</td><td> 0.48873534</td><td> 0.19478038</td></tr>\n",
       "\t<tr><th scope=row>MntSweetProducts</th><td>-0.7805885</td><td>-0.32568671</td><td>-0.01158102</td><td> 0.465916145</td><td>-0.25869727</td><td> 0.02175951</td></tr>\n",
       "\t<tr><th scope=row>MntGoldProds</th><td>-0.6242148</td><td> 0.48088635</td><td>-0.60857100</td><td> 0.039354514</td><td>-0.03141585</td><td>-0.07880193</td></tr>\n",
       "</tbody>\n",
       "</table>\n"
      ],
      "text/latex": [
       "A matrix: 6 × 6 of type dbl\n",
       "\\begin{tabular}{r|llllll}\n",
       "\tMntWines & -0.6895101 &  0.51246018 &  0.43731836 &  0.010425805 & -0.07090206 &  0.25608056\\\\\n",
       "\tMntFruits & -0.7865811 & -0.29302494 & -0.09613204 & -0.447321774 & -0.28180685 &  0.08169032\\\\\n",
       "\tMntMeatProducts & -0.8375810 &  0.03378374 &  0.29921147 & -0.058462145 &  0.11644376 & -0.43682055\\\\\n",
       "\tMntFishProducts & -0.8073222 & -0.24414576 & -0.10852490 &  0.006662118 &  0.48873534 &  0.19478038\\\\\n",
       "\tMntSweetProducts & -0.7805885 & -0.32568671 & -0.01158102 &  0.465916145 & -0.25869727 &  0.02175951\\\\\n",
       "\tMntGoldProds & -0.6242148 &  0.48088635 & -0.60857100 &  0.039354514 & -0.03141585 & -0.07880193\\\\\n",
       "\\end{tabular}\n"
      ],
      "text/markdown": [
       "\n",
       "A matrix: 6 × 6 of type dbl\n",
       "\n",
       "| MntWines | -0.6895101 |  0.51246018 |  0.43731836 |  0.010425805 | -0.07090206 |  0.25608056 |\n",
       "| MntFruits | -0.7865811 | -0.29302494 | -0.09613204 | -0.447321774 | -0.28180685 |  0.08169032 |\n",
       "| MntMeatProducts | -0.8375810 |  0.03378374 |  0.29921147 | -0.058462145 |  0.11644376 | -0.43682055 |\n",
       "| MntFishProducts | -0.8073222 | -0.24414576 | -0.10852490 |  0.006662118 |  0.48873534 |  0.19478038 |\n",
       "| MntSweetProducts | -0.7805885 | -0.32568671 | -0.01158102 |  0.465916145 | -0.25869727 |  0.02175951 |\n",
       "| MntGoldProds | -0.6242148 |  0.48088635 | -0.60857100 |  0.039354514 | -0.03141585 | -0.07880193 |\n",
       "\n"
      ],
      "text/plain": [
       "                 [,1]       [,2]        [,3]        [,4]         [,5]       \n",
       "MntWines         -0.6895101  0.51246018  0.43731836  0.010425805 -0.07090206\n",
       "MntFruits        -0.7865811 -0.29302494 -0.09613204 -0.447321774 -0.28180685\n",
       "MntMeatProducts  -0.8375810  0.03378374  0.29921147 -0.058462145  0.11644376\n",
       "MntFishProducts  -0.8073222 -0.24414576 -0.10852490  0.006662118  0.48873534\n",
       "MntSweetProducts -0.7805885 -0.32568671 -0.01158102  0.465916145 -0.25869727\n",
       "MntGoldProds     -0.6242148  0.48088635 -0.60857100  0.039354514 -0.03141585\n",
       "                 [,6]       \n",
       "MntWines          0.25608056\n",
       "MntFruits         0.08169032\n",
       "MntMeatProducts  -0.43682055\n",
       "MntFishProducts   0.19478038\n",
       "MntSweetProducts  0.02175951\n",
       "MntGoldProds     -0.07880193"
      ]
     },
     "metadata": {},
     "output_type": "display_data"
    }
   ],
   "source": [
    "cp <- prcomp(dataset2, scale=TRUE) \n",
    "summary(cp) \n",
    "(corvar = cp$rotation %*% diag(cp$sdev)) \n",
    "\n",
    "dataset$MntProdCotid = -cp$x[,\"PC1\"]\n",
    "dataset$MntProdPrescind = cp$x[,\"PC2\"] "
   ]
  },
  {
   "cell_type": "markdown",
   "id": "51da1790-a112-4680-a195-14e7454f3293",
   "metadata": {},
   "source": [
    "## Clustering"
   ]
  },
  {
   "cell_type": "markdown",
   "id": "b84cb277-9725-4107-bccc-d9a3fbb3823a",
   "metadata": {},
   "source": [
    "#### Agrupamiento jerárquico"
   ]
  },
  {
   "cell_type": "markdown",
   "id": "0b8639e2-f9e1-409e-8dc0-08c2dd70516d",
   "metadata": {},
   "source": [
    "En este análisis de clustering se utilizaron las siguientes variables: **MenorEnCasa**, **AcepAlguna**, **Edad**, **Income**, **MntProdCotid**, **MntProdPrescind**, **NumWebPurchases**, **NumCatalogPurchases**, **NumStorePurchases**, las cuales fueron normalizadas para estar en escalas comparables. Luego, realizé una clusterización jerárquica donde se realizó un corte del dendograma en 2 grupos."
   ]
  },
  {
   "cell_type": "code",
   "execution_count": 1918,
   "id": "7fe529ba-35c2-49be-a460-c5ecf0086daf",
   "metadata": {},
   "outputs": [
    {
     "data": {
      "image/png": "[encoded data removed]",
      "text/plain": [
       "Plot with title \"Cluster Dendrogram\""
      ]
     },
     "metadata": {
      "image/png": {
       "height": 420,
       "width": 420
      }
     },
     "output_type": "display_data"
    }
   ],
   "source": [
    "variables_clustering <- c(\"MenorEnCasa\", \"AcepAlguna\", \"Edad\", \"Income\", \"MntProdCotid\",\"MntProdPrescind\",\"NumWebPurchases\", \"NumCatalogPurchases\", \"NumStorePurchases\")\n",
    "dataset_normalizado <- dataset\n",
    "dataset_normalizado[,variables_clustering] <- apply(dataset_normalizado[,variables_clustering], 2, function(x) {(x-min(x)) / (max(x)-min(x))})\n",
    "\n",
    "set.seed <- 123\n",
    "variables_bin <- c(\"MenorEnCasa\", \"AcepAlguna\")\n",
    "types <- rep(\"numeric\", ncol(dataset_normalizado)) \n",
    "types[variables_bin] <- \"binary\"\n",
    "distancias <- daisy(dataset_normalizado[, variables_clustering], \n",
    "                    metric = \"gower\", \n",
    "                    type = list(asymm = variables_bin))\n",
    "hc <- hclust(distancias, method=\"ward.D2\") \n",
    "plot(hc, hang=-1, cex=0.6) \n",
    "\n",
    "nro_clusters <- 2\n",
    "rect.hclust(hc, k=nro_clusters)\n",
    "dataset$cluster <- cutree(hc, k=nro_clusters)\n"
   ]
  },
  {
   "cell_type": "markdown",
   "id": "51309cdf-7d94-4c00-8a71-114c28ddbc53",
   "metadata": {},
   "source": [
    "#### Características de los Clusters"
   ]
  },
  {
   "cell_type": "markdown",
   "id": "8bc33f84-3905-452e-8c63-4e1718d91c44",
   "metadata": {},
   "source": [
    "En el siguiente gráfico se comparan los clientes pertenecientes a cada cluster, visualizando también algunas variables binarias. Se puede observar que:\n",
    "<br> - El cluster 2 es un grupo mayorista de 1715 clientes, mientras que en el cluster 1 solo hay 478.\n",
    "<br> - Los clusters están clasificados principalmente por la cantidad de hijos menores en el hogar, siendo el cluster 1 asociado a los que clientes que no cuentan con hijos menores, mientras que en el cluster 2 si.\n",
    "<br> - En el cluster 1 tienden a aceptar mayormente las ofertas en campañas, a diferencia del cluster 2 que tiende a no aceptar las ofertas. Además, en cada cluster la oferta en campaña mejor aceptada fue la última realizada (variable Response), mientras que en ambos casos la peor fue la 2da, como ya se podía observar en gráficos anteriores.\n",
    "<br> - En cuanto a Edad no hay mucho diferencia de distribución entre los clusters. Pero en los ingresos se distinguen clienten con una mayor cantidad de ingresos en comparación al cluster 2.\n",
    "<br> - En el cluster 1 los gastos de productos indispensables en general más elevados que los del cluster 2, sin embargo en cuanto a productos prescindibles no hay mucha diferencia. Dentro del cluster 2 también se observa la diferencia de gastos entre productos indispensables y prescindibles, siendo esta última mayor.\n",
    "<br> - En cuanto a los medios de compra, no hay mucha variabilidad en la cantidad de compras que se realizan por la página web, mientras que para las compras por catálogo y por tienda sí, a pesar de que la compra por catálogo es el medio en el que se realizan menores compras como se observó previamente, son los clientes del cluster 1 los que prefieren mayormente este canal de compras."
   ]
  },
  {
   "cell_type": "code",
   "execution_count": 2001,
   "id": "e424030e-5a2e-471c-9a9d-2f7bac4b4479",
   "metadata": {},
   "outputs": [
    {
     "data": {
      "text/html": [
       "'Cantidad de clientes en cada cluster:'"
      ],
      "text/latex": [
       "'Cantidad de clientes en cada cluster:'"
      ],
      "text/markdown": [
       "'Cantidad de clientes en cada cluster:'"
      ],
      "text/plain": [
       "[1] \"Cantidad de clientes en cada cluster:\""
      ]
     },
     "metadata": {},
     "output_type": "display_data"
    },
    {
     "data": {
      "text/plain": [
       "\n",
       "   1    2 \n",
       " 478 1715 "
      ]
     },
     "metadata": {},
     "output_type": "display_data"
    },
    {
     "data": {
      "image/png": "[encoded data removed]",
      "text/plain": [
       "plot without title"
      ]
     },
     "metadata": {
      "image/png": {
       "height": 420,
       "width": 420
      }
     },
     "output_type": "display_data"
    }
   ],
   "source": [
    "\"Cantidad de clientes en cada cluster:\"\n",
    "table(dataset$cluster)\n",
    "\n",
    "variables_binarias <- c(\"MenorEnCasa\", \"AcepAlguna\", \"AcceptedCmp1\", \"AcceptedCmp2\", \"AcceptedCmp3\", \"AcceptedCmp4\", \"AcceptedCmp5\", \"Response\")\n",
    "variables_numericas <- c(\"Edad\", \"Income\", \"MntProdCotid\", \"MntProdPrescind\", \"NumWebPurchases\", \"NumCatalogPurchases\", \"NumStorePurchases\")\n",
    "dataset_normalizado <- dataset\n",
    "dataset_normalizado[,variables_numericas] <- apply(dataset_normalizado[,variables_numericas], 2, function(x) {(x-min(x)) / (max(x)-min(x))})\n",
    "\n",
    "valores_binarias <- dataset_normalizado %>%\n",
    "  group_by(cluster) %>%\n",
    "  summarise(across(all_of(variables_binarias), mean))\n",
    "\n",
    "valores_numericas <- dataset_normalizado %>%\n",
    "  group_by(cluster) %>%\n",
    "  summarise(across(all_of(variables_numericas), median))\n",
    "\n",
    "# Converción a formato largo para ggplot\n",
    "valores_grafica <- bind_cols(valores_binarias, valores_numericas[,-1])\n",
    "df_plot <- melt(valores_grafica, id.vars = \"cluster\")\n",
    "\n",
    "color_cluster <- c(\"1\" = \"red\", \"2\" = \"blue\", \"3\" = \"green\")\n",
    "ggplot(data = df_plot, aes(x = variable, y = value, group = cluster, color = as.factor(cluster))) +\n",
    "  geom_point(size = 2) +\n",
    "  geom_line() +\n",
    "  labs(color = \"Cluster\") +\n",
    "  scale_color_manual(values = color_cluster) + \n",
    "  theme_minimal() +\n",
    "  theme(axis.text.x = element_text(angle = 75, hjust = 1))"
   ]
  },
  {
   "cell_type": "markdown",
   "id": "745afc62-40d4-402b-b51f-44783f2b536f",
   "metadata": {},
   "source": [
    "Con el siguiente gráfico de boxplot multivariado clasificados por clusters, se puede observar un poco mas en profundidad la distribución en comparación al gráfico anterior. Aquí se observa principalmente que: \n",
    "<br> - Si bien en el cluster 1 la mayoría gasta mas que en el cluster 2, cabe aclarar que en el cluster 2 existe un grupo minorista de clientes que tienen altos gastos en productos cotidianos.\n",
    "<br> - Como así también se puede apreciar que en cuanto a productos prescindibles, en el cluster 2 también existen grupos minoristas con menor o mayor cantidad de gastos que la mayoría."
   ]
  },
  {
   "cell_type": "code",
   "execution_count": 1982,
   "id": "d2fdaf82-3114-4016-99f0-5a9ea1f2ca88",
   "metadata": {},
   "outputs": [
    {
     "data": {
      "image/png": "[encoded data removed]",
      "text/plain": [
       "plot without title"
      ]
     },
     "metadata": {
      "image/png": {
       "height": 420,
       "width": 420
      }
     },
     "output_type": "display_data"
    }
   ],
   "source": [
    "dataset_long_boxplot <- melt(dataset_normalizado, \n",
    "                             id.vars = \"cluster\", \n",
    "                             measure.vars = variables_numericas)\n",
    "\n",
    "ggplot(dataset_long_boxplot, aes(x = variable, y = value, fill = as.factor(cluster))) +\n",
    "  geom_boxplot(outlier.shape = 21) + \n",
    "  scale_fill_manual(values = color_cluster) + \n",
    "  labs(fill = \"Cluster\") +\n",
    "  theme_minimal() +\n",
    "  theme(axis.text.x = element_text(angle = 75, hjust = 1),  \n",
    "        panel.grid.major.x = element_blank())"
   ]
  },
  {
   "cell_type": "markdown",
   "id": "a70649b2-9e8f-419e-b5e2-eec448769b6e",
   "metadata": {},
   "source": [
    "# Conclusiones:"
   ]
  },
  {
   "cell_type": "markdown",
   "id": "09ba4419-e65c-4529-b8f7-9055e9695c41",
   "metadata": {},
   "source": [
    "- Con respecto al cluster 2, un grupo mayoritario de clientes que en general tienen hijos menores pero no aceptan las ofertas y tienen menores gastos en productos; quizas se podría revertir esta tendencia y captar la atención de este importante grupo mayorista, creando y promocionando una nueva categoría de productos para niños y adolescentes, como ser Juguetes o Artículos para la Escuela; atrayendo así a estos clientes con potenciales compras.\n",
    "- En el cluster 1 de clientes minoristas que si aceptan las ofertas y tienen mayores ingresos y gastos, se desearía mantener o mejorar esta situación, por lo que es recomendable realizar camapañas similares a la última que fue la más exitosa, y quizas realizando promociones de productos cárnicos con vinos, que son en lo que más gastan los clientes."
   ]
  }
 ],
 "metadata": {
  "kernelspec": {
   "display_name": "R",
   "language": "R",
   "name": "ir"
  },
  "language_info": {
   "codemirror_mode": "r",
   "file_extension": ".r",
   "mimetype": "text/x-r-source",
   "name": "R",
   "pygments_lexer": "r",
   "version": "4.4.1"
  }
 },
 "nbformat": 4,
 "nbformat_minor": 5
}
